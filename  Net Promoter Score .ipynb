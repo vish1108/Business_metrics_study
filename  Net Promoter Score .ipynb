{
 "cells": [
  {
   "cell_type": "code",
   "execution_count": 1,
   "id": "0a15f335-a16b-422b-8605-dfdb2173afa1",
   "metadata": {},
   "outputs": [],
   "source": [
    "import pandas as pd"
   ]
  },
  {
   "cell_type": "code",
   "execution_count": 2,
   "id": "73bb1390-b584-432c-83c0-b16ce7d080a9",
   "metadata": {},
   "outputs": [
    {
     "data": {
      "text/html": [
       "<div>\n",
       "<style scoped>\n",
       "    .dataframe tbody tr th:only-of-type {\n",
       "        vertical-align: middle;\n",
       "    }\n",
       "\n",
       "    .dataframe tbody tr th {\n",
       "        vertical-align: top;\n",
       "    }\n",
       "\n",
       "    .dataframe thead th {\n",
       "        text-align: right;\n",
       "    }\n",
       "</style>\n",
       "<table border=\"1\" class=\"dataframe\">\n",
       "  <thead>\n",
       "    <tr style=\"text-align: right;\">\n",
       "      <th></th>\n",
       "      <th>Text</th>\n",
       "      <th>Sentiment</th>\n",
       "      <th>Source</th>\n",
       "      <th>Date/Time</th>\n",
       "      <th>User ID</th>\n",
       "      <th>Location</th>\n",
       "      <th>Confidence Score</th>\n",
       "    </tr>\n",
       "  </thead>\n",
       "  <tbody>\n",
       "    <tr>\n",
       "      <th>0</th>\n",
       "      <td>I love this product!</td>\n",
       "      <td>Positive</td>\n",
       "      <td>Twitter</td>\n",
       "      <td>2023-06-15 09:23:14</td>\n",
       "      <td>@user123</td>\n",
       "      <td>New York</td>\n",
       "      <td>0.85</td>\n",
       "    </tr>\n",
       "    <tr>\n",
       "      <th>1</th>\n",
       "      <td>The service was terrible.</td>\n",
       "      <td>Negative</td>\n",
       "      <td>Yelp Reviews</td>\n",
       "      <td>2023-06-15 11:45:32</td>\n",
       "      <td>user456</td>\n",
       "      <td>Los Angeles</td>\n",
       "      <td>0.65</td>\n",
       "    </tr>\n",
       "    <tr>\n",
       "      <th>2</th>\n",
       "      <td>This movie is amazing!</td>\n",
       "      <td>Positive</td>\n",
       "      <td>IMDb</td>\n",
       "      <td>2023-06-15 14:10:22</td>\n",
       "      <td>moviefan789</td>\n",
       "      <td>London</td>\n",
       "      <td>0.92</td>\n",
       "    </tr>\n",
       "    <tr>\n",
       "      <th>3</th>\n",
       "      <td>I'm so disappointed with their customer support.</td>\n",
       "      <td>Negative</td>\n",
       "      <td>Online Forum</td>\n",
       "      <td>2023-06-15 17:35:11</td>\n",
       "      <td>forumuser1</td>\n",
       "      <td>Toronto</td>\n",
       "      <td>0.78</td>\n",
       "    </tr>\n",
       "    <tr>\n",
       "      <th>4</th>\n",
       "      <td>Just had the best meal of my life!</td>\n",
       "      <td>Positive</td>\n",
       "      <td>TripAdvisor</td>\n",
       "      <td>2023-06-16 08:50:59</td>\n",
       "      <td>foodie22</td>\n",
       "      <td>Paris</td>\n",
       "      <td>0.88</td>\n",
       "    </tr>\n",
       "  </tbody>\n",
       "</table>\n",
       "</div>"
      ],
      "text/plain": [
       "                                               Text  Sentiment         Source  \\\n",
       "0                              I love this product!   Positive        Twitter   \n",
       "1                         The service was terrible.   Negative   Yelp Reviews   \n",
       "2                            This movie is amazing!   Positive           IMDb   \n",
       "3  I'm so disappointed with their customer support.   Negative   Online Forum   \n",
       "4                Just had the best meal of my life!   Positive    TripAdvisor   \n",
       "\n",
       "              Date/Time       User ID      Location   Confidence Score  \n",
       "0   2023-06-15 09:23:14      @user123      New York               0.85  \n",
       "1   2023-06-15 11:45:32       user456   Los Angeles               0.65  \n",
       "2   2023-06-15 14:10:22   moviefan789        London               0.92  \n",
       "3   2023-06-15 17:35:11    forumuser1       Toronto               0.78  \n",
       "4   2023-06-16 08:50:59      foodie22         Paris               0.88  "
      ]
     },
     "execution_count": 2,
     "metadata": {},
     "output_type": "execute_result"
    }
   ],
   "source": [
    "df = pd.read_csv(r\"C:\\Users\\vishal\\OneDrive\\Desktop\\case study\\sentiment-analysis.csv\")\n",
    "df.head(5)"
   ]
  },
  {
   "cell_type": "code",
   "execution_count": 3,
   "id": "822fbec0-79e6-454d-8954-53035cf1f9f2",
   "metadata": {},
   "outputs": [],
   "source": [
    "# Fix column names by stripping extra spaces\n",
    "df.columns = df.columns.str.strip()"
   ]
  },
  {
   "cell_type": "code",
   "execution_count": 4,
   "id": "a934bcc9-aba9-40d7-8f74-681a5aece4d6",
   "metadata": {},
   "outputs": [
    {
     "data": {
      "text/plain": [
       "Index(['Text', 'Sentiment', 'Source', 'Date/Time', 'User ID', 'Location',\n",
       "       'Confidence Score'],\n",
       "      dtype='object')"
      ]
     },
     "execution_count": 4,
     "metadata": {},
     "output_type": "execute_result"
    }
   ],
   "source": [
    "df.columns"
   ]
  },
  {
   "cell_type": "code",
   "execution_count": 5,
   "id": "2598aaf0-9800-4b88-82f4-9294a9543a79",
   "metadata": {},
   "outputs": [
    {
     "name": "stdout",
     "output_type": "stream",
     "text": [
      "[' Positive' ' Negative']\n"
     ]
    }
   ],
   "source": [
    "print(df['Sentiment'].unique())"
   ]
  },
  {
   "cell_type": "code",
   "execution_count": 6,
   "id": "9cebd385-5a6b-431b-9231-6cbcbf5d9107",
   "metadata": {},
   "outputs": [
    {
     "name": "stdout",
     "output_type": "stream",
     "text": [
      "['Positive' 'Negative']\n"
     ]
    }
   ],
   "source": [
    "df['Sentiment'] = df['Sentiment'].str.strip() #Remove all extra space\n",
    "df['Sentiment'] = df['Sentiment'].str.capitalize()  # Capitalize the first letter\n",
    "print(df['Sentiment'].unique())"
   ]
  },
  {
   "cell_type": "code",
   "execution_count": 7,
   "id": "1db6bdc3-57bb-43db-be5a-ba31c04f9bfe",
   "metadata": {},
   "outputs": [],
   "source": [
    "# Map Sentiment to NPS Categories\n",
    "def map_sentiment_to_NPS(Sentiment):\n",
    "    if Sentiment == 'Positive':\n",
    "        return 'Promoter'\n",
    "    elif Sentiment == 'Neutral':\n",
    "        return 'Passive'\n",
    "    elif Sentiment == 'Negative':\n",
    "        return 'Detractor'\n",
    "    else:\n",
    "        return 'Unknown'\n",
    "\n",
    "df['NPS_Category'] = df['Sentiment'].apply(map_sentiment_to_NPS)"
   ]
  },
  {
   "cell_type": "code",
   "execution_count": 8,
   "id": "3712405c-c329-4f8d-9a67-97d3597cf6a5",
   "metadata": {},
   "outputs": [
    {
     "name": "stdout",
     "output_type": "stream",
     "text": [
      "Index(['Text', 'Sentiment', 'Source', 'Date/Time', 'User ID', 'Location',\n",
      "       'Confidence Score', 'NPS_Category'],\n",
      "      dtype='object')\n"
     ]
    }
   ],
   "source": [
    "# Check the updated column names\n",
    "print(df.columns)"
   ]
  },
  {
   "cell_type": "code",
   "execution_count": 9,
   "id": "4a65faa2-20ac-4c80-950a-8047b56ac24f",
   "metadata": {},
   "outputs": [
    {
     "data": {
      "text/html": [
       "<div>\n",
       "<style scoped>\n",
       "    .dataframe tbody tr th:only-of-type {\n",
       "        vertical-align: middle;\n",
       "    }\n",
       "\n",
       "    .dataframe tbody tr th {\n",
       "        vertical-align: top;\n",
       "    }\n",
       "\n",
       "    .dataframe thead th {\n",
       "        text-align: right;\n",
       "    }\n",
       "</style>\n",
       "<table border=\"1\" class=\"dataframe\">\n",
       "  <thead>\n",
       "    <tr style=\"text-align: right;\">\n",
       "      <th></th>\n",
       "      <th>Text</th>\n",
       "      <th>Sentiment</th>\n",
       "      <th>Source</th>\n",
       "      <th>Date/Time</th>\n",
       "      <th>User ID</th>\n",
       "      <th>Location</th>\n",
       "      <th>Confidence Score</th>\n",
       "      <th>NPS_Category</th>\n",
       "    </tr>\n",
       "  </thead>\n",
       "  <tbody>\n",
       "    <tr>\n",
       "      <th>0</th>\n",
       "      <td>I love this product!</td>\n",
       "      <td>Positive</td>\n",
       "      <td>Twitter</td>\n",
       "      <td>2023-06-15 09:23:14</td>\n",
       "      <td>@user123</td>\n",
       "      <td>New York</td>\n",
       "      <td>0.85</td>\n",
       "      <td>Promoter</td>\n",
       "    </tr>\n",
       "    <tr>\n",
       "      <th>1</th>\n",
       "      <td>The service was terrible.</td>\n",
       "      <td>Negative</td>\n",
       "      <td>Yelp Reviews</td>\n",
       "      <td>2023-06-15 11:45:32</td>\n",
       "      <td>user456</td>\n",
       "      <td>Los Angeles</td>\n",
       "      <td>0.65</td>\n",
       "      <td>Detractor</td>\n",
       "    </tr>\n",
       "    <tr>\n",
       "      <th>2</th>\n",
       "      <td>This movie is amazing!</td>\n",
       "      <td>Positive</td>\n",
       "      <td>IMDb</td>\n",
       "      <td>2023-06-15 14:10:22</td>\n",
       "      <td>moviefan789</td>\n",
       "      <td>London</td>\n",
       "      <td>0.92</td>\n",
       "      <td>Promoter</td>\n",
       "    </tr>\n",
       "    <tr>\n",
       "      <th>3</th>\n",
       "      <td>I'm so disappointed with their customer support.</td>\n",
       "      <td>Negative</td>\n",
       "      <td>Online Forum</td>\n",
       "      <td>2023-06-15 17:35:11</td>\n",
       "      <td>forumuser1</td>\n",
       "      <td>Toronto</td>\n",
       "      <td>0.78</td>\n",
       "      <td>Detractor</td>\n",
       "    </tr>\n",
       "    <tr>\n",
       "      <th>4</th>\n",
       "      <td>Just had the best meal of my life!</td>\n",
       "      <td>Positive</td>\n",
       "      <td>TripAdvisor</td>\n",
       "      <td>2023-06-16 08:50:59</td>\n",
       "      <td>foodie22</td>\n",
       "      <td>Paris</td>\n",
       "      <td>0.88</td>\n",
       "      <td>Promoter</td>\n",
       "    </tr>\n",
       "    <tr>\n",
       "      <th>5</th>\n",
       "      <td>The quality of this product is subpar.</td>\n",
       "      <td>Negative</td>\n",
       "      <td>Amazon Reviews</td>\n",
       "      <td>2023-06-16 10:15:27</td>\n",
       "      <td>shopper123</td>\n",
       "      <td>San Francisco</td>\n",
       "      <td>0.72</td>\n",
       "      <td>Detractor</td>\n",
       "    </tr>\n",
       "    <tr>\n",
       "      <th>6</th>\n",
       "      <td>I can't stop listening to this song. It's incr...</td>\n",
       "      <td>Positive</td>\n",
       "      <td>Spotify</td>\n",
       "      <td>2023-06-16 13:40:18</td>\n",
       "      <td>musiclover456</td>\n",
       "      <td>Berlin</td>\n",
       "      <td>0.91</td>\n",
       "      <td>Promoter</td>\n",
       "    </tr>\n",
       "    <tr>\n",
       "      <th>7</th>\n",
       "      <td>Their website is so user-friendly. Love it!</td>\n",
       "      <td>Positive</td>\n",
       "      <td>Website Testimonial</td>\n",
       "      <td>2023-06-16 16:05:36</td>\n",
       "      <td>testimonialuser1</td>\n",
       "      <td>Sydney</td>\n",
       "      <td>0.87</td>\n",
       "      <td>Promoter</td>\n",
       "    </tr>\n",
       "    <tr>\n",
       "      <th>8</th>\n",
       "      <td>I loved the movie! It was fantastic!</td>\n",
       "      <td>Positive</td>\n",
       "      <td>IMDb</td>\n",
       "      <td>2023-07-02 09:12:34</td>\n",
       "      <td>user123</td>\n",
       "      <td>New York</td>\n",
       "      <td>0.92</td>\n",
       "      <td>Promoter</td>\n",
       "    </tr>\n",
       "    <tr>\n",
       "      <th>9</th>\n",
       "      <td>The customer service was terrible.</td>\n",
       "      <td>Negative</td>\n",
       "      <td>Yelp Reviews</td>\n",
       "      <td>2023-07-02 10:45:21</td>\n",
       "      <td>user456</td>\n",
       "      <td>Los Angeles</td>\n",
       "      <td>0.65</td>\n",
       "      <td>Detractor</td>\n",
       "    </tr>\n",
       "  </tbody>\n",
       "</table>\n",
       "</div>"
      ],
      "text/plain": [
       "                                                Text Sentiment  \\\n",
       "0                               I love this product!  Positive   \n",
       "1                          The service was terrible.  Negative   \n",
       "2                             This movie is amazing!  Positive   \n",
       "3   I'm so disappointed with their customer support.  Negative   \n",
       "4                 Just had the best meal of my life!  Positive   \n",
       "5             The quality of this product is subpar.  Negative   \n",
       "6  I can't stop listening to this song. It's incr...  Positive   \n",
       "7        Their website is so user-friendly. Love it!  Positive   \n",
       "8               I loved the movie! It was fantastic!  Positive   \n",
       "9                 The customer service was terrible.  Negative   \n",
       "\n",
       "                 Source             Date/Time            User ID  \\\n",
       "0               Twitter   2023-06-15 09:23:14           @user123   \n",
       "1          Yelp Reviews   2023-06-15 11:45:32            user456   \n",
       "2                  IMDb   2023-06-15 14:10:22        moviefan789   \n",
       "3          Online Forum   2023-06-15 17:35:11         forumuser1   \n",
       "4           TripAdvisor   2023-06-16 08:50:59           foodie22   \n",
       "5        Amazon Reviews   2023-06-16 10:15:27         shopper123   \n",
       "6               Spotify   2023-06-16 13:40:18      musiclover456   \n",
       "7   Website Testimonial   2023-06-16 16:05:36   testimonialuser1   \n",
       "8                  IMDb   2023-07-02 09:12:34            user123   \n",
       "9          Yelp Reviews   2023-07-02 10:45:21            user456   \n",
       "\n",
       "         Location  Confidence Score NPS_Category  \n",
       "0        New York              0.85     Promoter  \n",
       "1     Los Angeles              0.65    Detractor  \n",
       "2          London              0.92     Promoter  \n",
       "3         Toronto              0.78    Detractor  \n",
       "4           Paris              0.88     Promoter  \n",
       "5   San Francisco              0.72    Detractor  \n",
       "6          Berlin              0.91     Promoter  \n",
       "7          Sydney              0.87     Promoter  \n",
       "8        New York              0.92     Promoter  \n",
       "9     Los Angeles              0.65    Detractor  "
      ]
     },
     "execution_count": 9,
     "metadata": {},
     "output_type": "execute_result"
    }
   ],
   "source": [
    "df.head(10)"
   ]
  },
  {
   "cell_type": "code",
   "execution_count": 10,
   "id": "a2275f18-c5a1-429c-bac1-45e35754bf0a",
   "metadata": {},
   "outputs": [],
   "source": [
    "# Calculate percentages\n",
    "\n",
    "total_process = len(df)\n",
    "\n",
    "promoters = len(df[df['NPS_Category'] == 'Promoter']) / total_process * 100\n",
    "detractors = len(df[df['NPS_Category'] == 'Detractor']) / total_process * 100"
   ]
  },
  {
   "cell_type": "code",
   "execution_count": 11,
   "id": "1bdab1c7-1e93-4b20-8bd7-3b4b45a503b6",
   "metadata": {},
   "outputs": [
    {
     "data": {
      "text/plain": [
       "55.208333333333336"
      ]
     },
     "execution_count": 11,
     "metadata": {},
     "output_type": "execute_result"
    }
   ],
   "source": [
    "promoters"
   ]
  },
  {
   "cell_type": "code",
   "execution_count": 12,
   "id": "a6f079f1-65d7-4a77-82c8-55bb1effe9a8",
   "metadata": {},
   "outputs": [
    {
     "name": "stdout",
     "output_type": "stream",
     "text": [
      "Promoters:  55.21%, Detectors:  44.79%, NPS :  10.42\n"
     ]
    }
   ],
   "source": [
    "# Calculate NPS\n",
    "\n",
    "nps = promoters - detractors\n",
    "print(f\"Promoters: {promoters: .2f}%, Detectors: {detractors: .2f}%, NPS : {nps: .2f}\")"
   ]
  },
  {
   "cell_type": "code",
   "execution_count": 13,
   "id": "d9faf217-c52d-4d63-9227-590042c45f26",
   "metadata": {},
   "outputs": [
    {
     "name": "stdout",
     "output_type": "stream",
     "text": [
      "Source:  Airline Review, NPS: -100.00\n",
      "Source:  Amazon Reviews, NPS: -100.00\n",
      "Source:  Art Review, NPS:  100.00\n",
      "Source:  Event Review, NPS:  100.00\n",
      "Source:  Food Blog, NPS:  100.00\n",
      "Source:  Gaming Forum, NPS:  100.00\n",
      "Source:  Goodreads, NPS:  33.33\n",
      "Source:  Hotel Review, NPS: -100.00\n",
      "Source:  IMDb, NPS:  66.67\n",
      "Source:  Music Review, NPS:  100.00\n",
      "Source:  Online Chat, NPS:  0.00\n",
      "Source:  Online Forum, NPS: -100.00\n",
      "Source:  Online Helpdesk, NPS: -100.00\n",
      "Source:  Online Store, NPS: -81.82\n",
      "Source:  Retail Store, NPS:  100.00\n",
      "Source:  Spotify, NPS:  100.00\n",
      "Source:  TV Show Review, NPS: -100.00\n",
      "Source:  Theme Park Review, NPS:  100.00\n",
      "Source:  Travel Blog, NPS:  100.00\n",
      "Source:  Travel Website, NPS: -100.00\n",
      "Source:  Trip Report, NPS:  100.00\n",
      "Source:  TripAdvisor, NPS:  100.00\n",
      "Source:  Twitter, NPS:  100.00\n",
      "Source:  Website Review, NPS: -100.00\n",
      "Source:  Website Testimonial, NPS:  100.00\n",
      "Source:  Yelp Reviews, NPS: -33.33\n",
      "Source:  Zomato, NPS: -71.43\n"
     ]
    }
   ],
   "source": [
    "# Group by Source and calculate NPS\n",
    "source_group = df.groupby('Source')\n",
    "\n",
    "for source, group in source_group:\n",
    "    promoters = len(group[group['NPS_Category'] == 'Promoter']) /len(group) * 100\n",
    "    detractors = len(group[group['NPS_Category'] == 'Detractor']) /len(group) * 100\n",
    "    nps = promoters - detractors\n",
    "\n",
    "    print(f\"Source: {source}, NPS: {nps: .2f}\")"
   ]
  },
  {
   "cell_type": "code",
   "execution_count": 14,
   "id": "d6e62fb7-94d1-4c1c-b1d3-1099f2fe9d0c",
   "metadata": {},
   "outputs": [
    {
     "data": {
      "image/png": "[encoded data removed]",
      "text/plain": [
       "<Figure size 640x480 with 1 Axes>"
      ]
     },
     "metadata": {},
     "output_type": "display_data"
    },
    {
     "data": {
      "image/png": "[encoded data removed]",
      "text/plain": [
       "<Figure size 1000x500 with 1 Axes>"
      ]
     },
     "metadata": {},
     "output_type": "display_data"
    }
   ],
   "source": [
    "import matplotlib.pyplot as plt\n",
    "\n",
    "# Plot NPS category distribution\n",
    "df['NPS_Category'].value_counts().plot(kind = 'bar', color = ['green', 'gray', 'red'])\n",
    "plt.title(\"NPS Category Distribution\")\n",
    "plt.xlabel('NPS Category')\n",
    "plt.ylabel('Count')\n",
    "plt.show()\n",
    "\n",
    "# Optional: NPS over time (if Date/Time column is suitable)\n",
    "df['Date/Time'] = pd.to_datetime(df['Date/Time']) # Ensure proper datetime format\n",
    "nps_trends = df.groupby(df['Date/Time'].dt.to_period('M'))['NPS_Category'].value_counts(normalize=True).unstack()\n",
    "nps_trends.plot(kind = 'line', figsize = (10, 5))\n",
    "plt.title('NPS trend Overtime')\n",
    "plt.xlabel('Month')\n",
    "plt.ylabel('Proportion')\n",
    "plt.show()\n"
   ]
  }
 ],
 "metadata": {
  "kernelspec": {
   "display_name": "Python 3 (ipykernel)",
   "language": "python",
   "name": "python3"
  },
  "language_info": {
   "codemirror_mode": {
    "name": "ipython",
    "version": 3
   },
   "file_extension": ".py",
   "mimetype": "text/x-python",
   "name": "python",
   "nbconvert_exporter": "python",
   "pygments_lexer": "ipython3",
   "version": "3.12.8"
  }
 },
 "nbformat": 4,
 "nbformat_minor": 5
}
