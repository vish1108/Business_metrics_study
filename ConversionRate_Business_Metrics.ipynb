{
 "cells": [
  {
   "cell_type": "code",
   "execution_count": 1,
   "id": "72f1bc7c-cc02-45c3-a99c-21ac76cffee6",
   "metadata": {},
   "outputs": [],
   "source": [
    "# Import necessary libraries\n",
    "import pandas as pd\n",
    "import numpy as np\n",
    "from scipy import stats\n",
    "import matplotlib.pyplot as plt"
   ]
  },
  {
   "cell_type": "code",
   "execution_count": 2,
   "id": "69905669-31f1-4099-8ea8-a1b3313a1890",
   "metadata": {},
   "outputs": [
    {
     "data": {
      "text/html": [
       "<div>\n",
       "<style scoped>\n",
       "    .dataframe tbody tr th:only-of-type {\n",
       "        vertical-align: middle;\n",
       "    }\n",
       "\n",
       "    .dataframe tbody tr th {\n",
       "        vertical-align: top;\n",
       "    }\n",
       "\n",
       "    .dataframe thead th {\n",
       "        text-align: right;\n",
       "    }\n",
       "</style>\n",
       "<table border=\"1\" class=\"dataframe\">\n",
       "  <thead>\n",
       "    <tr style=\"text-align: right;\">\n",
       "      <th></th>\n",
       "      <th>InvoiceNo</th>\n",
       "      <th>StockCode</th>\n",
       "      <th>Description</th>\n",
       "      <th>Quantity</th>\n",
       "      <th>InvoiceDate</th>\n",
       "      <th>UnitPrice</th>\n",
       "      <th>CustomerID</th>\n",
       "      <th>Country</th>\n",
       "    </tr>\n",
       "  </thead>\n",
       "  <tbody>\n",
       "    <tr>\n",
       "      <th>0</th>\n",
       "      <td>536365</td>\n",
       "      <td>85123A</td>\n",
       "      <td>WHITE HANGING HEART T-LIGHT HOLDER</td>\n",
       "      <td>6</td>\n",
       "      <td>12/1/2010 8:26</td>\n",
       "      <td>2.55</td>\n",
       "      <td>17850.0</td>\n",
       "      <td>United Kingdom</td>\n",
       "    </tr>\n",
       "    <tr>\n",
       "      <th>1</th>\n",
       "      <td>536365</td>\n",
       "      <td>71053</td>\n",
       "      <td>WHITE METAL LANTERN</td>\n",
       "      <td>6</td>\n",
       "      <td>12/1/2010 8:26</td>\n",
       "      <td>3.39</td>\n",
       "      <td>17850.0</td>\n",
       "      <td>United Kingdom</td>\n",
       "    </tr>\n",
       "    <tr>\n",
       "      <th>2</th>\n",
       "      <td>536365</td>\n",
       "      <td>84406B</td>\n",
       "      <td>CREAM CUPID HEARTS COAT HANGER</td>\n",
       "      <td>8</td>\n",
       "      <td>12/1/2010 8:26</td>\n",
       "      <td>2.75</td>\n",
       "      <td>17850.0</td>\n",
       "      <td>United Kingdom</td>\n",
       "    </tr>\n",
       "    <tr>\n",
       "      <th>3</th>\n",
       "      <td>536365</td>\n",
       "      <td>84029G</td>\n",
       "      <td>KNITTED UNION FLAG HOT WATER BOTTLE</td>\n",
       "      <td>6</td>\n",
       "      <td>12/1/2010 8:26</td>\n",
       "      <td>3.39</td>\n",
       "      <td>17850.0</td>\n",
       "      <td>United Kingdom</td>\n",
       "    </tr>\n",
       "    <tr>\n",
       "      <th>4</th>\n",
       "      <td>536365</td>\n",
       "      <td>84029E</td>\n",
       "      <td>RED WOOLLY HOTTIE WHITE HEART.</td>\n",
       "      <td>6</td>\n",
       "      <td>12/1/2010 8:26</td>\n",
       "      <td>3.39</td>\n",
       "      <td>17850.0</td>\n",
       "      <td>United Kingdom</td>\n",
       "    </tr>\n",
       "  </tbody>\n",
       "</table>\n",
       "</div>"
      ],
      "text/plain": [
       "  InvoiceNo StockCode                          Description  Quantity  \\\n",
       "0    536365    85123A   WHITE HANGING HEART T-LIGHT HOLDER         6   \n",
       "1    536365     71053                  WHITE METAL LANTERN         6   \n",
       "2    536365    84406B       CREAM CUPID HEARTS COAT HANGER         8   \n",
       "3    536365    84029G  KNITTED UNION FLAG HOT WATER BOTTLE         6   \n",
       "4    536365    84029E       RED WOOLLY HOTTIE WHITE HEART.         6   \n",
       "\n",
       "      InvoiceDate  UnitPrice  CustomerID         Country  \n",
       "0  12/1/2010 8:26       2.55     17850.0  United Kingdom  \n",
       "1  12/1/2010 8:26       3.39     17850.0  United Kingdom  \n",
       "2  12/1/2010 8:26       2.75     17850.0  United Kingdom  \n",
       "3  12/1/2010 8:26       3.39     17850.0  United Kingdom  \n",
       "4  12/1/2010 8:26       3.39     17850.0  United Kingdom  "
      ]
     },
     "execution_count": 2,
     "metadata": {},
     "output_type": "execute_result"
    }
   ],
   "source": [
    "df = pd.read_csv(r\"C:\\Users\\vishal\\OneDrive\\Desktop\\case study\\e-commerce.csv\", encoding='ISO-8859-1')\n",
    "df.head(5)"
   ]
  },
  {
   "cell_type": "code",
   "execution_count": 3,
   "id": "770e594b-bbba-4a03-9dee-2e19646bf698",
   "metadata": {},
   "outputs": [
    {
     "name": "stdout",
     "output_type": "stream",
     "text": [
      "<class 'pandas.core.frame.DataFrame'>\n",
      "RangeIndex: 541909 entries, 0 to 541908\n",
      "Data columns (total 8 columns):\n",
      " #   Column       Non-Null Count   Dtype  \n",
      "---  ------       --------------   -----  \n",
      " 0   InvoiceNo    541909 non-null  object \n",
      " 1   StockCode    541909 non-null  object \n",
      " 2   Description  540455 non-null  object \n",
      " 3   Quantity     541909 non-null  int64  \n",
      " 4   InvoiceDate  541909 non-null  object \n",
      " 5   UnitPrice    541909 non-null  float64\n",
      " 6   CustomerID   406829 non-null  float64\n",
      " 7   Country      541909 non-null  object \n",
      "dtypes: float64(2), int64(1), object(5)\n",
      "memory usage: 33.1+ MB\n",
      "None\n"
     ]
    }
   ],
   "source": [
    "print(df.info())"
   ]
  },
  {
   "cell_type": "code",
   "execution_count": 4,
   "id": "f2e2b365-ebe0-4380-b0ef-f616ad6697c9",
   "metadata": {},
   "outputs": [],
   "source": [
    "# 1. Clean the dataset\n",
    "\n",
    "df.dropna(subset=['InvoiceDate', 'CustomerID', 'Quantity'], inplace=True)"
   ]
  },
  {
   "cell_type": "code",
   "execution_count": 5,
   "id": "d7408b3e-3792-4825-8046-8cc0fc1673ad",
   "metadata": {},
   "outputs": [],
   "source": [
    "# Remove rows with non-positive quantities (ignore negative quantities which might represent returns)\n",
    "\n",
    "df = df[df['Quantity'] > 0]"
   ]
  },
  {
   "cell_type": "code",
   "execution_count": 6,
   "id": "66ca703b-5358-41d2-9837-b1233c52973a",
   "metadata": {},
   "outputs": [],
   "source": [
    "# 2. Define conversion: A conversion is a customer making at least one purchase.\n",
    "# Convert 'InvoiceNo' and 'CustomerID' to identify customers who made purchases\n",
    "\n",
    "df['Conversion'] = 1   # Marking all transactions as conversions (1)"
   ]
  },
  {
   "cell_type": "code",
   "execution_count": 7,
   "id": "c83b23cc-0c29-4e19-87e5-ce09d3aa15ad",
   "metadata": {},
   "outputs": [],
   "source": [
    "# 3. Determine which group (A/B) each customer belongs to\n",
    "# You can split the groups based on any feature; let's say we divide by 'Country' for this example\n",
    "# Group A: 'United Kingdom', Group B: All other countries\n",
    "\n",
    "df['group'] = np.where(df['Country'] == 'United Kingdom', 'A', 'B')"
   ]
  },
  {
   "cell_type": "code",
   "execution_count": 8,
   "id": "6380bf88-ed3c-455b-80f2-11a442a9aa5f",
   "metadata": {},
   "outputs": [],
   "source": [
    "# 4. Calculate conversion rates\n",
    "# For each group, calculate the conversion rate: Number of converted customers / Total customers\n",
    "# First, count unique customers (CustomerID) who made a purchase in each group\n",
    "conversions_A = df[df['group'] == 'A']['CustomerID'].nunique()\n",
    "conversions_B = df[df['group'] == 'B']['CustomerID'].nunique()"
   ]
  },
  {
   "cell_type": "code",
   "execution_count": 9,
   "id": "d471ce3d-09ac-4316-a828-2d822e6e9f61",
   "metadata": {},
   "outputs": [],
   "source": [
    "# Total number of customers in each group\n",
    "total_customers_A = df[df['group'] == 'A']['CustomerID'].nunique()\n",
    "total_customers_B = df[df['group'] == 'B']['CustomerID'].nunique()"
   ]
  },
  {
   "cell_type": "code",
   "execution_count": 11,
   "id": "4f3ef3d3-4f29-4b76-9654-9f3c717ea772",
   "metadata": {},
   "outputs": [],
   "source": [
    "# Conversion rates for each group\n",
    "Conversion_rate_A = conversions_A / total_customers_A\n",
    "conversions_B = conversions_B / total_customers_B"
   ]
  },
  {
   "cell_type": "code",
   "execution_count": null,
   "id": "a396fad2-fc58-43a9-9f19-dae687616f88",
   "metadata": {},
   "outputs": [],
   "source": []
  },
  {
   "cell_type": "code",
   "execution_count": null,
   "id": "e67a9f87-4914-4cb5-a7dc-5de19194165a",
   "metadata": {},
   "outputs": [],
   "source": []
  }
 ],
 "metadata": {
  "kernelspec": {
   "display_name": "Python 3 (ipykernel)",
   "language": "python",
   "name": "python3"
  },
  "language_info": {
   "codemirror_mode": {
    "name": "ipython",
    "version": 3
   },
   "file_extension": ".py",
   "mimetype": "text/x-python",
   "name": "python",
   "nbconvert_exporter": "python",
   "pygments_lexer": "ipython3",
   "version": "3.12.8"
  }
 },
 "nbformat": 4,
 "nbformat_minor": 5
}
