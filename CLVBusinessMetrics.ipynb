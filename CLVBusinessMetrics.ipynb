{
 "cells": [
  {
   "cell_type": "code",
   "execution_count": 1,
   "id": "d4f7aa91-ca4d-4169-94f8-b02efb8d7272",
   "metadata": {},
   "outputs": [],
   "source": [
    "# Import necessary libraries\n",
    "import pandas as pd\n",
    "import datetime as dt\n",
    "from lifetimes import BetaGeoFitter, GammaGammaFitter\n",
    "from lifetimes.utils import summary_data_from_transaction_data"
   ]
  },
  {
   "cell_type": "code",
   "execution_count": 2,
   "id": "35f6814e-a7ed-4493-9c89-1b90acb4b532",
   "metadata": {},
   "outputs": [
    {
     "data": {
      "text/html": [
       "<div>\n",
       "<style scoped>\n",
       "    .dataframe tbody tr th:only-of-type {\n",
       "        vertical-align: middle;\n",
       "    }\n",
       "\n",
       "    .dataframe tbody tr th {\n",
       "        vertical-align: top;\n",
       "    }\n",
       "\n",
       "    .dataframe thead th {\n",
       "        text-align: right;\n",
       "    }\n",
       "</style>\n",
       "<table border=\"1\" class=\"dataframe\">\n",
       "  <thead>\n",
       "    <tr style=\"text-align: right;\">\n",
       "      <th></th>\n",
       "      <th>InvoiceNo</th>\n",
       "      <th>StockCode</th>\n",
       "      <th>Description</th>\n",
       "      <th>Quantity</th>\n",
       "      <th>InvoiceDate</th>\n",
       "      <th>UnitPrice</th>\n",
       "      <th>CustomerID</th>\n",
       "      <th>Country</th>\n",
       "    </tr>\n",
       "  </thead>\n",
       "  <tbody>\n",
       "    <tr>\n",
       "      <th>0</th>\n",
       "      <td>536365</td>\n",
       "      <td>85123A</td>\n",
       "      <td>WHITE HANGING HEART T-LIGHT HOLDER</td>\n",
       "      <td>6</td>\n",
       "      <td>2010-12-01 08:26:00</td>\n",
       "      <td>2.55</td>\n",
       "      <td>17850.0</td>\n",
       "      <td>United Kingdom</td>\n",
       "    </tr>\n",
       "    <tr>\n",
       "      <th>1</th>\n",
       "      <td>536365</td>\n",
       "      <td>71053</td>\n",
       "      <td>WHITE METAL LANTERN</td>\n",
       "      <td>6</td>\n",
       "      <td>2010-12-01 08:26:00</td>\n",
       "      <td>3.39</td>\n",
       "      <td>17850.0</td>\n",
       "      <td>United Kingdom</td>\n",
       "    </tr>\n",
       "    <tr>\n",
       "      <th>2</th>\n",
       "      <td>536365</td>\n",
       "      <td>84406B</td>\n",
       "      <td>CREAM CUPID HEARTS COAT HANGER</td>\n",
       "      <td>8</td>\n",
       "      <td>2010-12-01 08:26:00</td>\n",
       "      <td>2.75</td>\n",
       "      <td>17850.0</td>\n",
       "      <td>United Kingdom</td>\n",
       "    </tr>\n",
       "    <tr>\n",
       "      <th>3</th>\n",
       "      <td>536365</td>\n",
       "      <td>84029G</td>\n",
       "      <td>KNITTED UNION FLAG HOT WATER BOTTLE</td>\n",
       "      <td>6</td>\n",
       "      <td>2010-12-01 08:26:00</td>\n",
       "      <td>3.39</td>\n",
       "      <td>17850.0</td>\n",
       "      <td>United Kingdom</td>\n",
       "    </tr>\n",
       "    <tr>\n",
       "      <th>4</th>\n",
       "      <td>536365</td>\n",
       "      <td>84029E</td>\n",
       "      <td>RED WOOLLY HOTTIE WHITE HEART.</td>\n",
       "      <td>6</td>\n",
       "      <td>2010-12-01 08:26:00</td>\n",
       "      <td>3.39</td>\n",
       "      <td>17850.0</td>\n",
       "      <td>United Kingdom</td>\n",
       "    </tr>\n",
       "  </tbody>\n",
       "</table>\n",
       "</div>"
      ],
      "text/plain": [
       "  InvoiceNo StockCode                          Description  Quantity  \\\n",
       "0    536365    85123A   WHITE HANGING HEART T-LIGHT HOLDER         6   \n",
       "1    536365     71053                  WHITE METAL LANTERN         6   \n",
       "2    536365    84406B       CREAM CUPID HEARTS COAT HANGER         8   \n",
       "3    536365    84029G  KNITTED UNION FLAG HOT WATER BOTTLE         6   \n",
       "4    536365    84029E       RED WOOLLY HOTTIE WHITE HEART.         6   \n",
       "\n",
       "          InvoiceDate  UnitPrice  CustomerID         Country  \n",
       "0 2010-12-01 08:26:00       2.55     17850.0  United Kingdom  \n",
       "1 2010-12-01 08:26:00       3.39     17850.0  United Kingdom  \n",
       "2 2010-12-01 08:26:00       2.75     17850.0  United Kingdom  \n",
       "3 2010-12-01 08:26:00       3.39     17850.0  United Kingdom  \n",
       "4 2010-12-01 08:26:00       3.39     17850.0  United Kingdom  "
      ]
     },
     "execution_count": 2,
     "metadata": {},
     "output_type": "execute_result"
    }
   ],
   "source": [
    "# importing the data\n",
    "df = pd.read_excel(r\"C:\\Users\\vishal\\OneDrive\\Desktop\\case study\\online+retail\\Online Retail.xlsx\")\n",
    "df.head()"
   ]
  },
  {
   "cell_type": "code",
   "execution_count": 3,
   "id": "bc972f03-310a-4bca-afed-648c4047f812",
   "metadata": {},
   "outputs": [
    {
     "data": {
      "text/plain": [
       "Index(['InvoiceNo', 'StockCode', 'Description', 'Quantity', 'InvoiceDate',\n",
       "       'UnitPrice', 'CustomerID', 'Country'],\n",
       "      dtype='object')"
      ]
     },
     "execution_count": 3,
     "metadata": {},
     "output_type": "execute_result"
    }
   ],
   "source": [
    "df.columns"
   ]
  },
  {
   "cell_type": "code",
   "execution_count": 4,
   "id": "529b85b8-fc57-4200-bedc-9bdd76295420",
   "metadata": {},
   "outputs": [],
   "source": [
    "# Data Cleaning\n",
    "df.dropna(subset=['CustomerID'], inplace=True)\n",
    "df = df[df['Quantity'] > 0]\n",
    "df = df[df['UnitPrice'] > 0]"
   ]
  },
  {
   "cell_type": "code",
   "execution_count": 5,
   "id": "24b51094-8c57-4f08-8e20-e92935d68385",
   "metadata": {},
   "outputs": [],
   "source": [
    "# Create 'TotalPrice' column\n",
    "df['TotalPrice'] = df['Quantity'] * df['UnitPrice']"
   ]
  },
  {
   "cell_type": "code",
   "execution_count": 6,
   "id": "b8b2e441-e300-4c5a-87b1-91e7ef7ffed5",
   "metadata": {},
   "outputs": [],
   "source": [
    "# Convert 'InvoiceDate' to datetime\n",
    "df['InvoiceDate'] = pd.to_datetime(df['InvoiceDate'])"
   ]
  },
  {
   "cell_type": "code",
   "execution_count": 7,
   "id": "a5ef6604-3587-4b6b-ab6f-b5b922effc53",
   "metadata": {},
   "outputs": [],
   "source": [
    "# Set analysis date as one day after the last transaction\n",
    "analysis_date = df['InvoiceDate'].max() + dt.timedelta(days = 1)"
   ]
  },
  {
   "cell_type": "code",
   "execution_count": 8,
   "id": "78256916-523f-4d69-9ef0-ebe601d0f62a",
   "metadata": {},
   "outputs": [],
   "source": [
    "# Prepare data for BG/NBD and Gamma-Gamma models\n",
    "summary = summary_data_from_transaction_data(df, 'CustomerID', 'InvoiceDate', monetary_value_col='TotalPrice', observation_period_end=analysis_date)"
   ]
  },
  {
   "cell_type": "code",
   "execution_count": 9,
   "id": "7c98510b-0615-459f-b430-ec7128a8aed2",
   "metadata": {},
   "outputs": [
    {
     "data": {
      "text/plain": [
       "<lifetimes.BetaGeoFitter: fitted with 4338 subjects, a: 0.00, alpha: 69.23, b: 6.65, r: 0.83>"
      ]
     },
     "execution_count": 9,
     "metadata": {},
     "output_type": "execute_result"
    }
   ],
   "source": [
    "# Fit the BG/NBD model\n",
    "bgf = BetaGeoFitter(penalizer_coef=0.0)\n",
    "bgf.fit(summary['frequency'], summary['recency'], summary['T'])"
   ]
  },
  {
   "cell_type": "code",
   "execution_count": 10,
   "id": "19ebf4c5-e6aa-4fef-b808-dfebddd1d056",
   "metadata": {},
   "outputs": [],
   "source": [
    "# Predict future purchases\n",
    "summary['predicted_purchases'] = bgf.conditional_expected_number_of_purchases_up_to_time(12, summary['frequency'], summary['recency'], summary['T'])"
   ]
  },
  {
   "cell_type": "code",
   "execution_count": 11,
   "id": "aeb70959-b9a0-4e29-9a35-a4822772d75d",
   "metadata": {},
   "outputs": [
    {
     "name": "stdout",
     "output_type": "stream",
     "text": [
      "            frequency  recency      T  monetary_value  predicted_purchases\n",
      "CustomerID                                                                \n",
      "12346.0           0.0      0.0  326.0             0.0             0.025068\n",
      "12349.0           0.0      0.0   19.0             0.0             0.112286\n",
      "12350.0           0.0      0.0  311.0             0.0             0.026057\n",
      "12353.0           0.0      0.0  205.0             0.0             0.036129\n",
      "12354.0           0.0      0.0  233.0             0.0             0.032782\n",
      "...               ...      ...    ...             ...                  ...\n",
      "18276.0           0.0      0.0   44.0             0.0             0.087496\n",
      "18277.0           0.0      0.0   59.0             0.0             0.077262\n",
      "18278.0           0.0      0.0   74.0             0.0             0.069171\n",
      "18280.0           0.0      0.0  278.0             0.0             0.028533\n",
      "18281.0           0.0      0.0  181.0             0.0             0.039594\n",
      "\n",
      "[1548 rows x 5 columns]\n"
     ]
    }
   ],
   "source": [
    "print(summary[summary['monetary_value'] <= 0])"
   ]
  },
  {
   "cell_type": "code",
   "execution_count": 12,
   "id": "015395c4-37b5-4bcd-a0c9-a483d117508a",
   "metadata": {},
   "outputs": [],
   "source": [
    "summary = summary[summary['monetary_value'] > 0]"
   ]
  },
  {
   "cell_type": "code",
   "execution_count": 13,
   "id": "6ef095c1-a601-4457-b2c0-c0291b17611d",
   "metadata": {},
   "outputs": [
    {
     "data": {
      "text/plain": [
       "<lifetimes.GammaGammaFitter: fitted with 2790 subjects, p: 2.10, q: 3.45, v: 485.89>"
      ]
     },
     "execution_count": 13,
     "metadata": {},
     "output_type": "execute_result"
    }
   ],
   "source": [
    "# Fit the Gamma-Gamma model\n",
    "ggf = GammaGammaFitter(penalizer_coef=0.0)\n",
    "ggf.fit(summary['frequency'], summary['monetary_value'])"
   ]
  },
  {
   "cell_type": "code",
   "execution_count": 14,
   "id": "8db7c182-6302-4b26-acea-72c437b1fed8",
   "metadata": {},
   "outputs": [],
   "source": [
    "# Predict average monetary value\n",
    "summary['predicted_monetary_value'] = ggf.conditional_expected_average_profit(summary['frequency'], summary['monetary_value'])"
   ]
  },
  {
   "cell_type": "code",
   "execution_count": 15,
   "id": "8c78c720-db8c-4899-a27a-eb52aafa584c",
   "metadata": {},
   "outputs": [],
   "source": [
    "# Calculate CLV\n",
    "summary['CLV'] = ggf.customer_lifetime_value(bgf, summary['frequency'], summary['recency'], summary['T'], summary['monetary_value'],\n",
    "                                            time = 12,\n",
    "                                            discount_rate = 0.01)"
   ]
  },
  {
   "cell_type": "code",
   "execution_count": 16,
   "id": "6c241a88-15b0-4272-aa59-47d007e19dd1",
   "metadata": {},
   "outputs": [
    {
     "name": "stdout",
     "output_type": "stream",
     "text": [
      "            predicted_purchases  predicted_monetary_value          CLV\n",
      "CustomerID                                                            \n",
      "12347.0                0.187261                569.978836  3000.838905\n",
      "12348.0                0.107098                333.784235  1005.171489\n",
      "12352.0                0.223486                376.175359  2363.309727\n",
      "12356.0                0.085738                324.039419   781.226541\n",
      "12358.0                0.099413                539.907126  1508.872854\n",
      "...                         ...                       ...          ...\n",
      "18272.0                0.220970                474.368524  2946.432180\n",
      "18273.0                0.103563                201.838133   587.706959\n",
      "18282.0                0.111567                260.340479   816.446938\n",
      "18283.0                0.407289                174.532812  1998.132071\n",
      "18287.0                0.124906                492.169257  1728.192616\n",
      "\n",
      "[2790 rows x 3 columns]\n"
     ]
    }
   ],
   "source": [
    "print(summary[['predicted_purchases', 'predicted_monetary_value', 'CLV']])"
   ]
  }
 ],
 "metadata": {
  "kernelspec": {
   "display_name": "Python 3 (ipykernel)",
   "language": "python",
   "name": "python3"
  },
  "language_info": {
   "codemirror_mode": {
    "name": "ipython",
    "version": 3
   },
   "file_extension": ".py",
   "mimetype": "text/x-python",
   "name": "python",
   "nbconvert_exporter": "python",
   "pygments_lexer": "ipython3",
   "version": "3.12.8"
  }
 },
 "nbformat": 4,
 "nbformat_minor": 5
}
